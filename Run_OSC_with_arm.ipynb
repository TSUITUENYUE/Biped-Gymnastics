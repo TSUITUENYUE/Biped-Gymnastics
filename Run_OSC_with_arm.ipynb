{
 "cells": [
  {
   "cell_type": "markdown",
   "metadata": {
    "id": "I9jK3d19ig5y",
    "cell_id": "6f5803a0924c4964a82a0c7da211b081",
    "deepnote_cell_type": "markdown"
   },
   "source": "# Operational Space Control",
   "block_group": "a969ac4293fd41e4a457f0c3fc11a123"
  },
  {
   "cell_type": "markdown",
   "metadata": {
    "tags": [],
    "cell_id": "b8240d89e0b642df893eb3c8a39b9c3a",
    "deepnote_cell_type": "markdown"
   },
   "source": "### Start Meshcat Visualizer\nOpen the visualizer by clicking on the url in the output of this cell.",
   "block_group": "063bb6daf9074c44a51500ac1c74735a"
  },
  {
   "cell_type": "code",
   "metadata": {
    "tags": [],
    "source_hash": "3f44790f",
    "output_cleared": false,
    "execution_start": 1731349574399,
    "execution_millis": 1,
    "execution_context_id": "47a348ac-cbe7-40e5-bcf7-ebd2bbb2e1f2",
    "deepnote_to_be_reexecuted": false,
    "cell_id": "93c09b87de6e408eb6d68fc118001ce0",
    "deepnote_cell_type": "code",
    "ExecuteTime": {
     "end_time": "2024-11-12T15:15:13.017551Z",
     "start_time": "2024-11-12T15:15:12.724742Z"
    }
   },
   "source": "from pydrake.all import StartMeshcat\n\nmeshcat = StartMeshcat()",
   "block_group": "53c7d1bd0c974923ace310a94b794e36",
   "outputs_reference": "dbtable:cell_outputs/c19b5ab5-e58f-4127-b4c9-a5f2b014a985",
   "content_dependencies": null,
   "outputs": [
    {
     "name": "stderr",
     "output_type": "stream",
     "text": [
      "INFO:drake:Meshcat listening for connections at http://localhost:7002\n"
     ]
    }
   ],
   "execution_count": 1
  },
  {
   "cell_type": "markdown",
   "metadata": {
    "tags": [],
    "cell_id": "5da18362e01c4511a73b563fda36fbfd",
    "deepnote_cell_type": "markdown"
   },
   "source": "### Setup the simulation\n\nDrake simulations are built as block diagrams, similarly to Simulink or LabVIEW, except the blocks (systems) are defined programatically rather than graphically. \n\nThis cell creates a Drake Diagram, and adds the system blocks for the OSC, footstep planner, and a simulated planar walker. You can change the OSC gains and the desired walking speed, then run this cell to view the diagram it creates. The next cell runs the simulation, which you can view in meshcat.",
   "block_group": "28cf905212c048aea936109ddc3a2ec2"
  },
  {
   "cell_type": "code",
   "metadata": {
    "tags": [],
    "source_hash": "b942355d",
    "output_cleared": false,
    "execution_start": 1731356556269,
    "execution_millis": 2501,
    "execution_context_id": "e80a9dc5-4869-4fd9-8f03-ae3d7daf5675",
    "cell_id": "669ff365eba545339116cbf8a0859a96",
    "deepnote_cell_type": "code",
    "ExecuteTime": {
     "end_time": "2024-11-12T15:21:19.820295Z",
     "start_time": "2024-11-12T15:21:19.458108Z"
    }
   },
   "source": [
    "import pydot\n",
    "import numpy as np\n",
    "from IPython.display import SVG, display\n",
    "\n",
    "from pydrake.all import Simulator, DiagramBuilder, AddMultibodyPlantSceneGraph,\\\n",
    "                        Parser, RigidTransform, MeshcatVisualizer, MeshcatVisualizerParams, \\\n",
    "                        ConstantVectorSource, ConstantValueSource, PiecewisePolynomial,\\\n",
    "                        AbstractValue, HalfSpace, CoulombFriction, LeafSystem, BasicVector\n",
    "import runstep_planner\n",
    "import osc\n",
    "import importlib\n",
    "importlib.reload(osc)\n",
    "importlib.reload(runstep_planner)\n",
    "from osc import OperationalSpaceWalkingController, OscGains\n",
    "\n",
    "# Build the block diagram for the simulation\n",
    "builder = DiagramBuilder()\n",
    "\n",
    "# Add a planar walker to the simulation\n",
    "plant, scene_graph = AddMultibodyPlantSceneGraph(builder, 0.0005)\n",
    "X_WG = HalfSpace.MakePose(np.array([0,0, 1]), np.zeros(3,))\n",
    "plant.RegisterCollisionGeometry(\n",
    "    plant.world_body(), \n",
    "    X_WG, HalfSpace(), \n",
    "    \"collision\", \n",
    "    CoulombFriction(1.0, 1.0)\n",
    ")\n",
    "parser = Parser(plant)\n",
    "\n",
    "parser.AddModels(\"humanoid_walker.urdf\") # humanoid with 2 arms\n",
    "\n",
    "plant.WeldFrames(\n",
    "    plant.world_frame(),\n",
    "    plant.GetBodyByName(\"base\").body_frame(),\n",
    "    RigidTransform.Identity()\n",
    ")\n",
    "plant.Finalize()\n",
    "\n",
    "\n",
    "# Build the controller diagram\n",
    "Kp = np.diag([100, 0, 100])\n",
    "Kd = np.diag([10, 0, 10])\n",
    "W = np.diag([1, 0, 1])\n",
    "\n",
    "Wcom = np.zeros((3,3))\n",
    "Wcom[2,2] = 1\n",
    "\n",
    "# gains for humanoid with arms fixed\n",
    "gains = OscGains(\n",
    "        Kp, Kd, Wcom,\n",
    "        Kp, Kd, W,\n",
    "        60 * np.eye(1), 6 * np.eye(1), np.eye(1),\n",
    "        0.00001\n",
    "    )\n",
    "\n",
    "walking_speed = 0.2 # walking speed in m/s for humanoid with arms fixed\n",
    "\n",
    "osc = builder.AddSystem(OperationalSpaceWalkingController(gains))\n",
    "planner = builder.AddSystem(runstep_planner.RunStepPlanner())\n",
    "speed_src = builder.AddSystem(ConstantVectorSource(np.array([walking_speed])))\n",
    "base_traj_src = builder.AddSystem(\n",
    "    ConstantValueSource(AbstractValue.Make(PiecewisePolynomial(np.zeros(1,))))\n",
    ")\n",
    "\n",
    "\n",
    "############################################################################\n",
    "class ExtractLowerBodyStates(LeafSystem):\n",
    "    def __init__(self):\n",
    "        super().__init__()\n",
    "        \n",
    "        # Declare an input port for the full plant state (22 states)\n",
    "        input_port = self.DeclareVectorInputPort(\"plant_state\", BasicVector(22))\n",
    "        \n",
    "        # Declare an output port for the actuated states \n",
    "        self.DeclareVectorOutputPort(\n",
    "            \"lower_body_state\", BasicVector(14),  # 14 states in total\n",
    "            lambda context, output: output.SetFromVector(\n",
    "                np.hstack([\n",
    "                    self.get_input_port(0).Eval(context)[:3],         # 1st to 3rd states\n",
    "                    self.get_input_port(0).Eval(context)[7:14],       # 8th to 14th states\n",
    "                    self.get_input_port(0).Eval(context)[18:22]      # 19th to 22nd states\n",
    "                ])\n",
    "            )\n",
    "        )\n",
    "\n",
    "lower_body_system = ExtractLowerBodyStates()\n",
    "builder.AddSystem(lower_body_system)\n",
    "\n",
    "# wire plant state to lower body system\n",
    "builder.Connect(plant.get_state_output_port(), \n",
    "                lower_body_system.get_input_port(0))\n",
    "\n",
    "\n",
    "###################################################################################\n",
    "# Wire planner inputs \n",
    "# builder.Connect(plant.get_state_output_port(), \n",
    "#                 planner.get_state_input_port())\n",
    "builder.Connect(lower_body_system.get_output_port(0), \n",
    "                planner.get_state_input_port())\n",
    "\n",
    "builder.Connect(speed_src.get_output_port(), \n",
    "                planner.get_running_speed_input_port())\n",
    "\n",
    "#######################################################################\n",
    "\n",
    "\n",
    "# Wire OSC inputs\n",
    "# builder.Connect(plant.get_state_output_port(), \n",
    "#                 osc.get_state_input_port()) \n",
    "\n",
    "builder.Connect(lower_body_system.get_output_port(0),\n",
    "                osc.get_state_input_port()) \n",
    "\n",
    "builder.Connect(planner.get_swing_foot_traj_output_port(), \n",
    "                osc.get_traj_input_port(\"swing_foot_traj\"))\n",
    "builder.Connect(planner.get_com_traj_output_port(), \n",
    "                osc.get_traj_input_port(\"com_traj\"))\n",
    "builder.Connect(base_traj_src.get_output_port(), \n",
    "                osc.get_traj_input_port(\"base_joint_traj\"))\n",
    "\n",
    "\n",
    "\n",
    "#########################################################################\n",
    "\n",
    "# Add the visualizer\n",
    "vis_params = MeshcatVisualizerParams(publish_period=0.01)\n",
    "MeshcatVisualizer.AddToBuilder(builder, scene_graph, meshcat, params=vis_params)\n",
    "\n",
    "#########################################################################\n",
    "\n",
    "class ExtendLowerBodyInputs(LeafSystem):\n",
    "    def __init__(self):\n",
    "        super().__init__()\n",
    "        \n",
    "        # Declare a single input port that takes a 4-dimensional vector\n",
    "        self.DeclareVectorInputPort(\"input_vector\", BasicVector(4))\n",
    "        \n",
    "        # Declare an output port with 8 elements\n",
    "        self.DeclareVectorOutputPort(\n",
    "            \"combined_output\", BasicVector(8),\n",
    "            lambda context, output: output.SetFromVector(\n",
    "                np.hstack([self.get_input_port().Eval(context), np.zeros(4)])\n",
    "            )\n",
    "        )\n",
    "\n",
    "full_body_input = ExtendLowerBodyInputs()\n",
    "builder.AddSystem(full_body_input)\n",
    "\n",
    "# Wire OSC to plant\n",
    "# builder.Connect(osc.get_output_port(), \n",
    "#                 plant.get_actuation_input_port())\n",
    "builder.Connect(osc.get_output_port(), \n",
    "                full_body_input.get_input_port(0))\n",
    "builder.Connect(full_body_input.get_output_port(0), \n",
    "                plant.get_actuation_input_port())\n",
    "\n",
    "\n",
    "#########################################################################\n",
    "\n",
    "\n",
    "#simulate\n",
    "diagram = builder.Build()\n",
    "display(SVG(pydot.graph_from_dot_data(\n",
    "    diagram.GetGraphvizString(max_depth=2))[0].create_svg()))"
   ],
   "block_group": "03530bcbe90e499d87f12eb064702d5c",
   "outputs_reference": "s3:deepnote-cell-outputs-production/84657891-159d-49a2-931b-af128f94017a",
   "content_dependencies": null,
   "outputs": [
    {
     "data": {
      "text/plain": [
       "<IPython.core.display.SVG object>"
      ],
      "image/svg+xml": "<svg xmlns=\"http://www.w3.org/2000/svg\" xmlns:xlink=\"http://www.w3.org/1999/xlink\" width=\"1644pt\" height=\"627pt\" viewBox=\"0.00 0.00 1644.25 627.00\">\n<g id=\"graph0\" class=\"graph\" transform=\"scale(1 1) rotate(0) translate(4 623)\">\n<title>_290</title>\n<polygon fill=\"white\" stroke=\"none\" points=\"-4,4 -4,-623 1640.25,-623 1640.25,4 -4,4\"/>\n<g id=\"clust1\" class=\"cluster\">\n<title>cluster290diagram</title>\n<polygon fill=\"none\" stroke=\"black\" points=\"8,-8 8,-611 1628.25,-611 1628.25,-8 8,-8\"/>\n<text text-anchor=\"start\" x=\"792.25\" y=\"-590.7\" font-family=\"Times,serif\" font-weight=\"bold\" font-size=\"14.00\">Diagram</text>\n</g>\n<g id=\"clust2\" class=\"cluster\">\n<title>cluster290subsystems</title>\n<polygon fill=\"none\" stroke=\"white\" points=\"16,-16 16,-570 1620.25,-570 1620.25,-16 16,-16\"/>\n</g>\n<!-- s147 -->\n<g id=\"node1\" class=\"node\">\n<title>s147</title>\n<polygon fill=\"none\" stroke=\"black\" points=\"32,-523.5 32,-557.5 518.75,-557.5 518.75,-523.5 32,-523.5\"/>\n<text text-anchor=\"start\" x=\"229.25\" y=\"-542.2\" font-family=\"Times,serif\" font-weight=\"bold\" font-size=\"14.00\">MultibodyPlant</text>\n<text text-anchor=\"start\" x=\"242.75\" y=\"-528.2\" font-family=\"Times,serif\" font-size=\"14.00\">name=plant</text>\n<polygon fill=\"none\" stroke=\"black\" points=\"32,-501 32,-523.5 236.75,-523.5 236.75,-501 32,-501\"/>\n<text text-anchor=\"start\" x=\"89.75\" y=\"-507.2\" font-family=\"Times,serif\" font-size=\"14.00\">geometry_query</text>\n<polygon fill=\"none\" stroke=\"black\" points=\"236.75,-501 236.75,-523.5 518.75,-523.5 518.75,-501 236.75,-501\"/>\n<text text-anchor=\"start\" x=\"336.12\" y=\"-507.2\" font-family=\"Times,serif\" font-size=\"14.00\">geometry_pose</text>\n<polygon fill=\"none\" stroke=\"black\" points=\"32,-478.5 32,-501 236.75,-501 236.75,-478.5 32,-478.5\"/>\n<text text-anchor=\"start\" x=\"109.62\" y=\"-484.7\" font-family=\"Times,serif\" font-size=\"14.00\">actuation</text>\n<polygon fill=\"none\" stroke=\"black\" points=\"236.75,-478.5 236.75,-501 518.75,-501 518.75,-478.5 236.75,-478.5\"/>\n<text text-anchor=\"start\" x=\"290\" y=\"-484.7\" font-family=\"Times,serif\" font-size=\"14.00\">deformable_body_configuration</text>\n<polygon fill=\"none\" stroke=\"black\" points=\"32,-456 32,-478.5 236.75,-478.5 236.75,-456 32,-456\"/>\n<text text-anchor=\"start\" x=\"62.75\" y=\"-462.2\" font-family=\"Times,serif\" font-size=\"14.00\">applied_generalized_force</text>\n<polygon fill=\"none\" stroke=\"black\" points=\"236.75,-456 236.75,-478.5 518.75,-478.5 518.75,-456 236.75,-456\"/>\n<text text-anchor=\"start\" x=\"365.38\" y=\"-462.2\" font-family=\"Times,serif\" font-size=\"14.00\">state</text>\n<polygon fill=\"none\" stroke=\"black\" points=\"32,-433.5 32,-456 236.75,-456 236.75,-433.5 32,-433.5\"/>\n<text text-anchor=\"start\" x=\"76.25\" y=\"-439.7\" font-family=\"Times,serif\" font-size=\"14.00\">applied_spatial_force</text>\n<polygon fill=\"none\" stroke=\"black\" points=\"236.75,-433.5 236.75,-456 518.75,-456 518.75,-433.5 236.75,-433.5\"/>\n<text text-anchor=\"start\" x=\"345.88\" y=\"-439.7\" font-family=\"Times,serif\" font-size=\"14.00\">body_poses</text>\n<polygon fill=\"none\" stroke=\"black\" points=\"32,-411 32,-433.5 236.75,-433.5 236.75,-411 32,-411\"/>\n<text text-anchor=\"start\" x=\"48.5\" y=\"-417.2\" font-family=\"Times,serif\" font-size=\"14.00\" fill=\"grey\">WorldModelInstance_actuation</text>\n<polygon fill=\"none\" stroke=\"black\" points=\"236.75,-411 236.75,-433.5 518.75,-433.5 518.75,-411 236.75,-411\"/>\n<text text-anchor=\"start\" x=\"314\" y=\"-417.2\" font-family=\"Times,serif\" font-size=\"14.00\">body_spatial_velocities</text>\n<polygon fill=\"none\" stroke=\"black\" points=\"32,-388.5 32,-411 236.75,-411 236.75,-388.5 32,-388.5\"/>\n<text text-anchor=\"start\" x=\"38\" y=\"-394.7\" font-family=\"Times,serif\" font-size=\"14.00\" fill=\"grey\">WorldModelInstance_desired_state</text>\n<polygon fill=\"none\" stroke=\"black\" points=\"236.75,-388.5 236.75,-411 518.75,-411 518.75,-388.5 236.75,-388.5\"/>\n<text text-anchor=\"start\" x=\"304.62\" y=\"-394.7\" font-family=\"Times,serif\" font-size=\"14.00\">body_spatial_accelerations</text>\n<polygon fill=\"none\" stroke=\"black\" points=\"32,-366 32,-388.5 236.75,-388.5 236.75,-366 32,-366\"/>\n<text text-anchor=\"start\" x=\"45.5\" y=\"-372.2\" font-family=\"Times,serif\" font-size=\"14.00\" fill=\"grey\">DefaultModelInstance_actuation</text>\n<polygon fill=\"none\" stroke=\"black\" points=\"236.75,-366 236.75,-388.5 518.75,-388.5 518.75,-366 236.75,-366\"/>\n<text text-anchor=\"start\" x=\"310.62\" y=\"-372.2\" font-family=\"Times,serif\" font-size=\"14.00\">generalized_acceleration</text>\n<polygon fill=\"none\" stroke=\"black\" points=\"32,-343.5 32,-366 236.75,-366 236.75,-343.5 32,-343.5\"/>\n<text text-anchor=\"start\" x=\"35\" y=\"-349.7\" font-family=\"Times,serif\" font-size=\"14.00\" fill=\"grey\">DefaultModelInstance_desired_state</text>\n<polygon fill=\"none\" stroke=\"black\" points=\"236.75,-343.5 236.75,-366 518.75,-366 518.75,-343.5 236.75,-343.5\"/>\n<text text-anchor=\"start\" x=\"341.38\" y=\"-349.7\" font-family=\"Times,serif\" font-size=\"14.00\">net_actuation</text>\n<polygon fill=\"none\" stroke=\"black\" points=\"32,-321 32,-343.5 236.75,-343.5 236.75,-321 32,-321\"/>\n<text text-anchor=\"start\" x=\"51.88\" y=\"-327.2\" font-family=\"Times,serif\" font-size=\"14.00\">KneedCompassGait_actuation</text>\n<polygon fill=\"none\" stroke=\"black\" points=\"236.75,-321 236.75,-343.5 518.75,-343.5 518.75,-321 236.75,-321\"/>\n<text text-anchor=\"start\" x=\"336.12\" y=\"-327.2\" font-family=\"Times,serif\" font-size=\"14.00\">reaction_forces</text>\n<polygon fill=\"none\" stroke=\"black\" points=\"32,-298.5 32,-321 236.75,-321 236.75,-298.5 32,-298.5\"/>\n<text text-anchor=\"start\" x=\"41.38\" y=\"-304.7\" font-family=\"Times,serif\" font-size=\"14.00\" fill=\"grey\">KneedCompassGait_desired_state</text>\n<polygon fill=\"none\" stroke=\"black\" points=\"236.75,-298.5 236.75,-321 518.75,-321 518.75,-298.5 236.75,-298.5\"/>\n<text text-anchor=\"start\" x=\"337.25\" y=\"-304.7\" font-family=\"Times,serif\" font-size=\"14.00\">contact_results</text>\n<polyline fill=\"none\" stroke=\"grey\" points=\"32,-298.5 32,-28.5 236.75,-28.5\"/>\n<polygon fill=\"none\" stroke=\"black\" points=\"236.75,-276 236.75,-298.5 518.75,-298.5 518.75,-276 236.75,-276\"/>\n<text text-anchor=\"start\" x=\"304.25\" y=\"-282.2\" font-family=\"Times,serif\" font-size=\"14.00\" fill=\"grey\">WorldModelInstance_state</text>\n<polygon fill=\"none\" stroke=\"black\" points=\"236.75,-253.5 236.75,-276 518.75,-276 518.75,-253.5 236.75,-253.5\"/>\n<text text-anchor=\"start\" x=\"249.5\" y=\"-259.7\" font-family=\"Times,serif\" font-size=\"14.00\" fill=\"grey\">WorldModelInstance_generalized_acceleration</text>\n<polygon fill=\"none\" stroke=\"black\" points=\"236.75,-231 236.75,-253.5 518.75,-253.5 518.75,-231 236.75,-231\"/>\n<text text-anchor=\"start\" x=\"242.75\" y=\"-237.2\" font-family=\"Times,serif\" font-size=\"14.00\" fill=\"grey\">WorldModelInstance_generalized_contact_forces</text>\n<polygon fill=\"none\" stroke=\"black\" points=\"236.75,-208.5 236.75,-231 518.75,-231 518.75,-208.5 236.75,-208.5\"/>\n<text text-anchor=\"start\" x=\"280.25\" y=\"-214.7\" font-family=\"Times,serif\" font-size=\"14.00\" fill=\"grey\">WorldModelInstance_net_actuation</text>\n<polygon fill=\"none\" stroke=\"black\" points=\"236.75,-186 236.75,-208.5 518.75,-208.5 518.75,-186 236.75,-186\"/>\n<text text-anchor=\"start\" x=\"301.25\" y=\"-192.2\" font-family=\"Times,serif\" font-size=\"14.00\" fill=\"grey\">DefaultModelInstance_state</text>\n<polygon fill=\"none\" stroke=\"black\" points=\"236.75,-163.5 236.75,-186 518.75,-186 518.75,-163.5 236.75,-163.5\"/>\n<text text-anchor=\"start\" x=\"246.5\" y=\"-169.7\" font-family=\"Times,serif\" font-size=\"14.00\" fill=\"grey\">DefaultModelInstance_generalized_acceleration</text>\n<polygon fill=\"none\" stroke=\"black\" points=\"236.75,-141 236.75,-163.5 518.75,-163.5 518.75,-141 236.75,-141\"/>\n<text text-anchor=\"start\" x=\"239.75\" y=\"-147.2\" font-family=\"Times,serif\" font-size=\"14.00\" fill=\"grey\">DefaultModelInstance_generalized_contact_forces</text>\n<polygon fill=\"none\" stroke=\"black\" points=\"236.75,-118.5 236.75,-141 518.75,-141 518.75,-118.5 236.75,-118.5\"/>\n<text text-anchor=\"start\" x=\"277.25\" y=\"-124.7\" font-family=\"Times,serif\" font-size=\"14.00\" fill=\"grey\">DefaultModelInstance_net_actuation</text>\n<polygon fill=\"none\" stroke=\"black\" points=\"236.75,-96 236.75,-118.5 518.75,-118.5 518.75,-96 236.75,-96\"/>\n<text text-anchor=\"start\" x=\"307.62\" y=\"-102.2\" font-family=\"Times,serif\" font-size=\"14.00\">KneedCompassGait_state</text>\n<polygon fill=\"none\" stroke=\"black\" points=\"236.75,-73.5 236.75,-96 518.75,-96 518.75,-73.5 236.75,-73.5\"/>\n<text text-anchor=\"start\" x=\"252.88\" y=\"-79.7\" font-family=\"Times,serif\" font-size=\"14.00\">KneedCompassGait_generalized_acceleration</text>\n<polygon fill=\"none\" stroke=\"black\" points=\"236.75,-51 236.75,-73.5 518.75,-73.5 518.75,-51 236.75,-51\"/>\n<text text-anchor=\"start\" x=\"246.12\" y=\"-57.2\" font-family=\"Times,serif\" font-size=\"14.00\">KneedCompassGait_generalized_contact_forces</text>\n<polygon fill=\"none\" stroke=\"black\" points=\"236.75,-28.5 236.75,-51 518.75,-51 518.75,-28.5 236.75,-28.5\"/>\n<text text-anchor=\"start\" x=\"283.62\" y=\"-34.7\" font-family=\"Times,serif\" font-size=\"14.00\">KneedCompassGait_net_actuation</text>\n</g>\n<!-- s148 -->\n<g id=\"node2\" class=\"node\">\n<title>s148</title>\n<polygon fill=\"none\" stroke=\"black\" points=\"602.25,-523.5 602.25,-557.5 751.5,-557.5 751.5,-523.5 602.25,-523.5\"/>\n<text text-anchor=\"start\" x=\"640.88\" y=\"-542.2\" font-family=\"Times,serif\" font-weight=\"bold\" font-size=\"14.00\">SceneGraph</text>\n<text text-anchor=\"start\" x=\"624\" y=\"-528.2\" font-family=\"Times,serif\" font-size=\"14.00\">name=scene_graph</text>\n<polygon fill=\"none\" stroke=\"black\" points=\"602.25,-501 602.25,-523.5 714.75,-523.5 714.75,-501 602.25,-501\"/>\n<text text-anchor=\"start\" x=\"629.25\" y=\"-507.2\" font-family=\"Times,serif\" font-size=\"14.00\">plant_pose</text>\n<polygon fill=\"none\" stroke=\"black\" points=\"714.75,-478.5 714.75,-523.5 751.5,-523.5 751.5,-478.5 714.75,-478.5\"/>\n<text text-anchor=\"start\" x=\"717.75\" y=\"-495.95\" font-family=\"Times,serif\" font-size=\"14.00\">query</text>\n<polygon fill=\"none\" stroke=\"black\" points=\"602.25,-478.5 602.25,-501 714.75,-501 714.75,-478.5 602.25,-478.5\"/>\n<text text-anchor=\"start\" x=\"605.25\" y=\"-484.7\" font-family=\"Times,serif\" font-size=\"14.00\">plant_configuration</text>\n</g>\n<!-- s147&#45;&gt;s148 -->\n<g id=\"edge4\" class=\"edge\">\n<title>s147:e-&gt;s148:w</title>\n<path fill=\"none\" stroke=\"black\" d=\"M519.75,-512.25C551.87,-512.25 562.63,-512.25 589.91,-512.25\"/>\n<polygon fill=\"black\" stroke=\"black\" points=\"589.74,-515.75 599.74,-512.25 589.74,-508.75 589.74,-515.75\"/>\n</g>\n<!-- s147&#45;&gt;s148 -->\n<g id=\"edge5\" class=\"edge\">\n<title>s147:e-&gt;s148:w</title>\n<path fill=\"none\" stroke=\"black\" d=\"M519.75,-489.75C551.87,-489.75 562.63,-489.75 589.91,-489.75\"/>\n<polygon fill=\"black\" stroke=\"black\" points=\"589.74,-493.25 599.74,-489.75 589.74,-486.25 589.74,-493.25\"/>\n</g>\n<!-- s286 -->\n<g id=\"node7\" class=\"node\">\n<title>s286</title>\n<polygon fill=\"none\" stroke=\"black\" points=\"570.75,-409 570.75,-431.5 783,-431.5 783,-409 570.75,-409\"/>\n<text text-anchor=\"start\" x=\"573.75\" y=\"-416.2\" font-family=\"Times,serif\" font-weight=\"bold\" font-size=\"14.00\">__main__.ExtractLowerBodyStates</text>\n<polygon fill=\"none\" stroke=\"black\" points=\"570.75,-386.5 570.75,-409 658.12,-409 658.12,-386.5 570.75,-386.5\"/>\n<text text-anchor=\"start\" x=\"585.19\" y=\"-392.7\" font-family=\"Times,serif\" font-size=\"14.00\">plant_state</text>\n<polygon fill=\"none\" stroke=\"black\" points=\"658.12,-386.5 658.12,-409 783,-409 783,-386.5 658.12,-386.5\"/>\n<text text-anchor=\"start\" x=\"672.56\" y=\"-392.7\" font-family=\"Times,serif\" font-size=\"14.00\">lower_body_state</text>\n</g>\n<!-- s147&#45;&gt;s286 -->\n<g id=\"edge12\" class=\"edge\">\n<title>s147:e-&gt;s286:w</title>\n<path fill=\"none\" stroke=\"black\" d=\"M519.75,-467.25C553.34,-467.25 536.94,-413.08 558.81,-400.39\"/>\n<polygon fill=\"black\" stroke=\"black\" points=\"559.38,-403.85 568.28,-398.1 557.74,-397.05 559.38,-403.85\"/>\n</g>\n<!-- s148&#45;&gt;s147 -->\n<g id=\"edge2\" class=\"edge\">\n<title>s148:e-&gt;s147:w</title>\n<path fill=\"none\" stroke=\"black\" d=\"M752.5,-501C764.29,-501 759.99,-482.68 751.5,-474.5 726.33,-450.26 625.63,-459.13 594.25,-474.5 550.3,-496.03 570.7,-539.97 526.75,-561.5 428.01,-609.86 110.53,-638.45 32,-561.5 19.78,-549.53 12.68,-526.2 20.6,-516.57\"/>\n<polygon fill=\"black\" stroke=\"black\" points=\"21.71,-519.9 29.6,-512.83 19.02,-513.43 21.71,-519.9\"/>\n</g>\n<!-- s287 -->\n<g id=\"node8\" class=\"node\">\n<title>s287</title>\n<polygon fill=\"none\" stroke=\"black\" points=\"835,-510.25 835,-558.25 1045,-558.25 1045,-510.25 835,-510.25\"/>\n<text text-anchor=\"start\" x=\"886\" y=\"-542.95\" font-family=\"Times,serif\" font-weight=\"bold\" font-size=\"14.00\">MeshcatVisualizer</text>\n<text text-anchor=\"start\" x=\"838\" y=\"-528.95\" font-family=\"Times,serif\" font-size=\"14.00\">name=meshcat_visualizer(visualizer)</text>\n<text text-anchor=\"start\" x=\"879.25\" y=\"-514.95\" font-family=\"Times,serif\" font-size=\"14.00\">path=/drake/visualizer</text>\n<polygon fill=\"none\" stroke=\"black\" points=\"835,-487.75 835,-510.25 975.25,-510.25 975.25,-487.75 835,-487.75\"/>\n<text text-anchor=\"start\" x=\"869.88\" y=\"-493.95\" font-family=\"Times,serif\" font-size=\"14.00\">query_object</text>\n<polyline fill=\"none\" stroke=\"grey\" points=\"975.25,-487.75 1045,-487.75 1045,-510.25\"/>\n</g>\n<!-- s148&#45;&gt;s287 -->\n<g id=\"edge13\" class=\"edge\">\n<title>s148:e-&gt;s287:w</title>\n<path fill=\"none\" stroke=\"black\" d=\"M752.5,-501C784.63,-501 795.37,-499.43 822.65,-499.07\"/>\n<polygon fill=\"black\" stroke=\"black\" points=\"822.51,-502.57 832.49,-499.01 822.46,-495.57 822.51,-502.57\"/>\n</g>\n<!-- s280 -->\n<g id=\"node3\" class=\"node\">\n<title>s280</title>\n<polygon fill=\"none\" stroke=\"black\" points=\"1097,-406.75 1097,-429.25 1339.25,-429.25 1339.25,-406.75 1097,-406.75\"/>\n<text text-anchor=\"start\" x=\"1100\" y=\"-413.95\" font-family=\"Times,serif\" font-weight=\"bold\" font-size=\"14.00\">osc.OperationalSpaceWalkingController</text>\n<polygon fill=\"none\" stroke=\"black\" points=\"1097,-384.25 1097,-406.75 1257.5,-406.75 1257.5,-384.25 1097,-384.25\"/>\n<text text-anchor=\"start\" x=\"1173.88\" y=\"-390.45\" font-family=\"Times,serif\" font-size=\"14.00\">x</text>\n<polygon fill=\"none\" stroke=\"black\" points=\"1257.5,-316.75 1257.5,-406.75 1339.25,-406.75 1339.25,-316.75 1257.5,-316.75\"/>\n<text text-anchor=\"start\" x=\"1295\" y=\"-356.7\" font-family=\"Times,serif\" font-size=\"14.00\">u</text>\n<polygon fill=\"none\" stroke=\"black\" points=\"1097,-361.75 1097,-384.25 1257.5,-384.25 1257.5,-361.75 1097,-361.75\"/>\n<text text-anchor=\"start\" x=\"1152.88\" y=\"-367.95\" font-family=\"Times,serif\" font-size=\"14.00\">com_traj</text>\n<polygon fill=\"none\" stroke=\"black\" points=\"1097,-339.25 1097,-361.75 1257.5,-361.75 1257.5,-339.25 1097,-339.25\"/>\n<text text-anchor=\"start\" x=\"1134.5\" y=\"-345.45\" font-family=\"Times,serif\" font-size=\"14.00\">swing_foot_traj</text>\n<polygon fill=\"none\" stroke=\"black\" points=\"1097,-316.75 1097,-339.25 1257.5,-339.25 1257.5,-316.75 1097,-316.75\"/>\n<text text-anchor=\"start\" x=\"1137.12\" y=\"-322.95\" font-family=\"Times,serif\" font-size=\"14.00\">base_joint_traj</text>\n</g>\n<!-- s288 -->\n<g id=\"node10\" class=\"node\">\n<title>s288</title>\n<polygon fill=\"none\" stroke=\"black\" points=\"1391.25,-419 1391.25,-441.5 1604.25,-441.5 1604.25,-419 1391.25,-419\"/>\n<text text-anchor=\"start\" x=\"1394.25\" y=\"-426.2\" font-family=\"Times,serif\" font-weight=\"bold\" font-size=\"14.00\">__main__.ExtendLowerBodyInputs</text>\n<polygon fill=\"none\" stroke=\"black\" points=\"1391.25,-396.5 1391.25,-419 1484.25,-419 1484.25,-396.5 1391.25,-396.5\"/>\n<text text-anchor=\"start\" x=\"1403.62\" y=\"-402.7\" font-family=\"Times,serif\" font-size=\"14.00\">input_vector</text>\n<polygon fill=\"none\" stroke=\"black\" points=\"1484.25,-396.5 1484.25,-419 1604.25,-419 1604.25,-396.5 1484.25,-396.5\"/>\n<text text-anchor=\"start\" x=\"1496.62\" y=\"-402.7\" font-family=\"Times,serif\" font-size=\"14.00\">combined_output</text>\n</g>\n<!-- s280&#45;&gt;s288 -->\n<g id=\"edge14\" class=\"edge\">\n<title>s280:e-&gt;s288:w</title>\n<path fill=\"none\" stroke=\"black\" d=\"M1340.25,-361.75C1365.96,-361.75 1362.24,-395.11 1379.22,-405.01\"/>\n<polygon fill=\"black\" stroke=\"black\" points=\"1378.23,-408.37 1388.78,-407.39 1379.92,-401.58 1378.23,-408.37\"/>\n</g>\n<!-- s282 -->\n<g id=\"node4\" class=\"node\">\n<title>s282</title>\n<polygon fill=\"none\" stroke=\"black\" points=\"839.88,-384.5 839.88,-407 1040.12,-407 1040.12,-384.5 839.88,-384.5\"/>\n<text text-anchor=\"start\" x=\"842.88\" y=\"-391.7\" font-family=\"Times,serif\" font-weight=\"bold\" font-size=\"14.00\">runstep_planner.RunStepPlanner</text>\n<polygon fill=\"none\" stroke=\"black\" points=\"839.88,-362 839.88,-384.5 922,-384.5 922,-362 839.88,-362\"/>\n<text text-anchor=\"start\" x=\"877.56\" y=\"-368.2\" font-family=\"Times,serif\" font-size=\"14.00\">x</text>\n<polygon fill=\"none\" stroke=\"black\" points=\"922,-362 922,-384.5 1040.12,-384.5 1040.12,-362 922,-362\"/>\n<text text-anchor=\"start\" x=\"956.69\" y=\"-368.2\" font-family=\"Times,serif\" font-size=\"14.00\">com_traj</text>\n<polygon fill=\"none\" stroke=\"black\" points=\"839.88,-339.5 839.88,-362 922,-362 922,-339.5 839.88,-339.5\"/>\n<text text-anchor=\"start\" x=\"868.56\" y=\"-345.7\" font-family=\"Times,serif\" font-size=\"14.00\">vdes</text>\n<polygon fill=\"none\" stroke=\"black\" points=\"922,-339.5 922,-362 1040.12,-362 1040.12,-339.5 922,-339.5\"/>\n<text text-anchor=\"start\" x=\"938.31\" y=\"-345.7\" font-family=\"Times,serif\" font-size=\"14.00\">swing_foot_traj</text>\n<polygon fill=\"none\" stroke=\"black\" points=\"839.88,-317 839.88,-339.5 922,-339.5 922,-317 839.88,-317\"/>\n<text text-anchor=\"start\" x=\"856.19\" y=\"-323.2\" font-family=\"Times,serif\" font-size=\"14.00\">vdes_run</text>\n<polyline fill=\"none\" stroke=\"grey\" points=\"922,-317 1040.12,-317 1040.12,-339.5\"/>\n</g>\n<!-- s282&#45;&gt;s280 -->\n<g id=\"edge7\" class=\"edge\">\n<title>s282:e-&gt;s280:w</title>\n<path fill=\"none\" stroke=\"black\" d=\"M1041.12,-373.25C1061.32,-373.25 1068.97,-373.08 1084.86,-373.02\"/>\n<polygon fill=\"black\" stroke=\"black\" points=\"1084.49,-376.52 1094.49,-373 1084.48,-369.52 1084.49,-376.52\"/>\n</g>\n<!-- s282&#45;&gt;s280 -->\n<g id=\"edge8\" class=\"edge\">\n<title>s282:e-&gt;s280:w</title>\n<path fill=\"none\" stroke=\"black\" d=\"M1041.12,-350.75C1061.32,-350.75 1068.97,-350.58 1084.86,-350.52\"/>\n<polygon fill=\"black\" stroke=\"black\" points=\"1084.49,-354.02 1094.49,-350.5 1084.48,-347.02 1084.49,-354.02\"/>\n</g>\n<!-- s284 -->\n<g id=\"node5\" class=\"node\">\n<title>s284</title>\n<polygon fill=\"none\" stroke=\"black\" points=\"608.62,-338 608.62,-360.5 745.12,-360.5 745.12,-338 608.62,-338\"/>\n<text text-anchor=\"start\" x=\"611.62\" y=\"-345.2\" font-family=\"Times,serif\" font-weight=\"bold\" font-size=\"14.00\">ConstantVectorSource</text>\n<polyline fill=\"none\" stroke=\"grey\" points=\"608.62,-338 608.62,-315.5 670.12,-315.5\"/>\n<polygon fill=\"none\" stroke=\"black\" points=\"670.12,-315.5 670.12,-338 745.12,-338 745.12,-315.5 670.12,-315.5\"/>\n<text text-anchor=\"start\" x=\"700.88\" y=\"-321.7\" font-family=\"Times,serif\" font-size=\"14.00\">y0</text>\n</g>\n<!-- s284&#45;&gt;s282 -->\n<g id=\"edge11\" class=\"edge\">\n<title>s284:e-&gt;s282:w</title>\n<path fill=\"none\" stroke=\"black\" d=\"M746.12,-326.75C783.33,-326.75 795.34,-327.97 827.62,-328.21\"/>\n<polygon fill=\"black\" stroke=\"black\" points=\"827.35,-331.71 837.36,-328.24 827.37,-324.71 827.35,-331.71\"/>\n</g>\n<!-- s285 -->\n<g id=\"node6\" class=\"node\">\n<title>s285</title>\n<polygon fill=\"none\" stroke=\"black\" points=\"874.38,-268 874.38,-290.5 1005.62,-290.5 1005.62,-268 874.38,-268\"/>\n<text text-anchor=\"start\" x=\"877.38\" y=\"-275.2\" font-family=\"Times,serif\" font-weight=\"bold\" font-size=\"14.00\">ConstantValueSource</text>\n<polyline fill=\"none\" stroke=\"grey\" points=\"874.38,-268 874.38,-245.5 933.25,-245.5\"/>\n<polygon fill=\"none\" stroke=\"black\" points=\"933.25,-245.5 933.25,-268 1005.62,-268 1005.62,-245.5 933.25,-245.5\"/>\n<text text-anchor=\"start\" x=\"962.69\" y=\"-251.7\" font-family=\"Times,serif\" font-size=\"14.00\">y0</text>\n</g>\n<!-- s285&#45;&gt;s280 -->\n<g id=\"edge9\" class=\"edge\">\n<title>s285:e-&gt;s280:w</title>\n<path fill=\"none\" stroke=\"black\" d=\"M1006.62,-256.75C1053.26,-256.75 1046.78,-316.79 1084.7,-326.64\"/>\n<polygon fill=\"black\" stroke=\"black\" points=\"1084.15,-330.1 1094.5,-327.82 1084.99,-323.15 1084.15,-330.1\"/>\n</g>\n<!-- s286&#45;&gt;s280 -->\n<g id=\"edge6\" class=\"edge\">\n<title>s286:e-&gt;s280:w</title>\n<path fill=\"none\" stroke=\"black\" d=\"M784,-397.75C805.52,-397.75 806.09,-414.91 827,-420 924.6,-443.75 955.9,-445.72 1053,-420 1069.94,-415.51 1073.22,-402.62 1084.98,-397.57\"/>\n<polygon fill=\"black\" stroke=\"black\" points=\"1085.33,-401.06 1094.51,-395.78 1084.04,-394.18 1085.33,-401.06\"/>\n</g>\n<!-- s286&#45;&gt;s282 -->\n<g id=\"edge10\" class=\"edge\">\n<title>s286:e-&gt;s282:w</title>\n<path fill=\"none\" stroke=\"black\" d=\"M784,-397.75C806.33,-397.75 811.01,-380.63 827.55,-375.01\"/>\n<polygon fill=\"black\" stroke=\"black\" points=\"828.04,-378.48 837.38,-373.48 826.96,-371.56 828.04,-378.48\"/>\n</g>\n<!-- meshcat_in -->\n<g id=\"node9\" class=\"node\">\n<title>meshcat_in</title>\n<ellipse fill=\"none\" stroke=\"magenta\" cx=\"1218.12\" cy=\"-523\" rx=\"42.65\" ry=\"18\"/>\n<text text-anchor=\"middle\" x=\"1218.12\" y=\"-517.95\" font-family=\"Times,serif\" font-size=\"14.00\">Meshcat</text>\n</g>\n<!-- s287&#45;&gt;meshcat_in -->\n<g id=\"edge1\" class=\"edge\">\n<title>s287:e-&gt;meshcat_in</title>\n<path fill=\"none\" stroke=\"magenta\" stroke-dasharray=\"5,2\" d=\"M1053,-523C1090.05,-523 1131.81,-523 1163.93,-523\"/>\n<polygon fill=\"magenta\" stroke=\"magenta\" points=\"1163.79,-526.5 1173.79,-523 1163.79,-519.5 1163.79,-526.5\"/>\n</g>\n<!-- s288&#45;&gt;s147 -->\n<g id=\"edge3\" class=\"edge\">\n<title>s288:e-&gt;s147:w</title>\n<path fill=\"none\" stroke=\"black\" d=\"M1605.25,-407.75C1704.15,-407.75 1471.38,-347.62 1383.25,-392.5 1359.01,-404.84 1371.3,-429.29 1347.25,-442 1270.15,-482.76 633.7,-415.3 562.75,-466 525.84,-492.37 564.05,-535.7 526.75,-561.5 436.33,-624.05 110.28,-638.7 32,-561.5 12.49,-542.26 2.22,-503.1 19.96,-492.47\"/>\n<polygon fill=\"black\" stroke=\"black\" points=\"20.66,-495.9 29.53,-490.11 18.98,-489.1 20.66,-495.9\"/>\n</g>\n</g>\n</svg>"
     },
     "metadata": {},
     "output_type": "display_data"
    }
   ],
   "execution_count": 3
  },
  {
   "cell_type": "markdown",
   "metadata": {
    "tags": [],
    "cell_id": "8c7858e6583e4b89ad6f6989cbb70e84",
    "deepnote_cell_type": "markdown"
   },
   "source": "### Run the simulation\nAfter you have run the above block, you can actually run the simulation with this one.",
   "block_group": "7f833894477f4312baf04767fe4f5dc7"
  },
  {
   "cell_type": "code",
   "metadata": {
    "tags": [],
    "source_hash": "83bbba6",
    "output_cleared": false,
    "execution_start": 1731349731833,
    "execution_millis": 3626,
    "execution_context_id": "47a348ac-cbe7-40e5-bcf7-ebd2bbb2e1f2",
    "cell_id": "6a66a96dd1fd41198e90532cae794f8a",
    "deepnote_cell_type": "code",
    "ExecuteTime": {
     "end_time": "2024-11-12T14:27:01.001133Z",
     "start_time": "2024-11-12T14:26:57.953549Z"
    }
   },
   "source": "# NOTE - if you make changes, you should re-run the cell above this one\n\nsim_time = 10.0\nsimulator = Simulator(diagram)\nsimulator.Initialize()\nsimulator.set_target_realtime_rate(1)\n\n# Set the robot state\nplant_context = diagram.GetMutableSubsystemContext(\n    plant, simulator.get_mutable_context())\nq = np.zeros((plant.num_positions(),))\nq[1] = 1.0\ntheta = -np.arccos(q[1])\nq[3] = theta\nq[4] = -2 * theta\nq[5] = theta\nq[6] = -2 * theta\nplant.SetPositions(plant_context, q)\n\nimport time\ntime.sleep(3.0)\n\n# Simulate the robot\nsimulator.AdvanceTo(sim_time)",
   "block_group": "16a0767124854895b42cb77f9d990fee",
   "outputs_reference": "s3:deepnote-cell-outputs-production/8da20de5-9a10-420a-b32b-054206d33fc5",
   "content_dependencies": null,
   "outputs": [
    {
     "ename": "AttributeError",
     "evalue": "'NoneType' object has no attribute 'get_value'",
     "output_type": "error",
     "traceback": [
      "\u001B[0;31m---------------------------------------------------------------------------\u001B[0m",
      "\u001B[0;31mAttributeError\u001B[0m                            Traceback (most recent call last)",
      "Cell \u001B[0;32mIn[9], line 24\u001B[0m\n\u001B[1;32m     21\u001B[0m time\u001B[38;5;241m.\u001B[39msleep(\u001B[38;5;241m3.0\u001B[39m)\n\u001B[1;32m     23\u001B[0m \u001B[38;5;66;03m# Simulate the robot\u001B[39;00m\n\u001B[0;32m---> 24\u001B[0m \u001B[43msimulator\u001B[49m\u001B[38;5;241;43m.\u001B[39;49m\u001B[43mAdvanceTo\u001B[49m\u001B[43m(\u001B[49m\u001B[43msim_time\u001B[49m\u001B[43m)\u001B[49m\n",
      "Cell \u001B[0;32mIn[7], line 142\u001B[0m, in \u001B[0;36mExtendLowerBodyInputs.__init__.<locals>.<lambda>\u001B[0;34m(context, output)\u001B[0m\n\u001B[1;32m    136\u001B[0m \u001B[38;5;28mself\u001B[39m\u001B[38;5;241m.\u001B[39mDeclareVectorInputPort(\u001B[38;5;124m\"\u001B[39m\u001B[38;5;124minput_vector\u001B[39m\u001B[38;5;124m\"\u001B[39m, BasicVector(\u001B[38;5;241m4\u001B[39m))\n\u001B[1;32m    138\u001B[0m \u001B[38;5;66;03m# Declare an output port with 8 elements\u001B[39;00m\n\u001B[1;32m    139\u001B[0m \u001B[38;5;28mself\u001B[39m\u001B[38;5;241m.\u001B[39mDeclareVectorOutputPort(\n\u001B[1;32m    140\u001B[0m     \u001B[38;5;124m\"\u001B[39m\u001B[38;5;124mcombined_output\u001B[39m\u001B[38;5;124m\"\u001B[39m, BasicVector(\u001B[38;5;241m8\u001B[39m),\n\u001B[1;32m    141\u001B[0m     \u001B[38;5;28;01mlambda\u001B[39;00m context, output: output\u001B[38;5;241m.\u001B[39mSetFromVector(\n\u001B[0;32m--> 142\u001B[0m         np\u001B[38;5;241m.\u001B[39mhstack([\u001B[38;5;28;43mself\u001B[39;49m\u001B[38;5;241;43m.\u001B[39;49m\u001B[43mget_input_port\u001B[49m\u001B[43m(\u001B[49m\u001B[43m)\u001B[49m\u001B[38;5;241;43m.\u001B[39;49m\u001B[43mEval\u001B[49m\u001B[43m(\u001B[49m\u001B[43mcontext\u001B[49m\u001B[43m)\u001B[49m, np\u001B[38;5;241m.\u001B[39mzeros(\u001B[38;5;241m4\u001B[39m)])\n\u001B[1;32m    143\u001B[0m     )\n\u001B[1;32m    144\u001B[0m )\n",
      "File \u001B[0;32m~/Pycharmprojects/MEAM 5170/osc.py:238\u001B[0m, in \u001B[0;36mOperationalSpaceWalkingController.CalcTorques\u001B[0;34m(self, context, output)\u001B[0m\n\u001B[1;32m    237\u001B[0m \u001B[38;5;28;01mdef\u001B[39;00m \u001B[38;5;21mCalcTorques\u001B[39m(\u001B[38;5;28mself\u001B[39m, context: Context, output: BasicVector) \u001B[38;5;241m-\u001B[39m\u001B[38;5;241m>\u001B[39m \u001B[38;5;28;01mNone\u001B[39;00m:\n\u001B[0;32m--> 238\u001B[0m     usol, _ \u001B[38;5;241m=\u001B[39m \u001B[38;5;28;43mself\u001B[39;49m\u001B[38;5;241;43m.\u001B[39;49m\u001B[43mSetupAndSolveQP\u001B[49m\u001B[43m(\u001B[49m\u001B[43mcontext\u001B[49m\u001B[43m)\u001B[49m\n\u001B[1;32m    239\u001B[0m     output\u001B[38;5;241m.\u001B[39mSetFromVector(usol)\n",
      "File \u001B[0;32m~/Pycharmprojects/MEAM 5170/osc.py:168\u001B[0m, in \u001B[0;36mOperationalSpaceWalkingController.SetupAndSolveQP\u001B[0;34m(self, context)\u001B[0m\n\u001B[1;32m    166\u001B[0m \u001B[38;5;66;03m# Update tracking objectives\u001B[39;00m\n\u001B[1;32m    167\u001B[0m \u001B[38;5;28;01mfor\u001B[39;00m traj_name \u001B[38;5;129;01min\u001B[39;00m \u001B[38;5;28mself\u001B[39m\u001B[38;5;241m.\u001B[39mtrajs:\n\u001B[0;32m--> 168\u001B[0m     traj \u001B[38;5;241m=\u001B[39m \u001B[38;5;28;43mself\u001B[39;49m\u001B[38;5;241;43m.\u001B[39;49m\u001B[43mEvalAbstractInput\u001B[49m\u001B[43m(\u001B[49m\u001B[43mcontext\u001B[49m\u001B[43m,\u001B[49m\u001B[43m \u001B[49m\u001B[38;5;28;43mself\u001B[39;49m\u001B[38;5;241;43m.\u001B[39;49m\u001B[43mtraj_input_ports\u001B[49m\u001B[43m[\u001B[49m\u001B[43mtraj_name\u001B[49m\u001B[43m]\u001B[49m\u001B[43m)\u001B[49m\u001B[38;5;241m.\u001B[39mget_value()\n\u001B[1;32m    169\u001B[0m     \u001B[38;5;28mself\u001B[39m\u001B[38;5;241m.\u001B[39mtracking_objectives[traj_name]\u001B[38;5;241m.\u001B[39mUpdate(t, traj, fsm)\n\u001B[1;32m    171\u001B[0m \u001B[38;5;250m\u001B[39m\u001B[38;5;124;03m'''Set up and solve the QP '''\u001B[39;00m\n",
      "File \u001B[0;32m~/Pycharmprojects/MEAM 5170/runstep_planner.py:45\u001B[0m, in \u001B[0;36mRunStepPlanner.CalcSwingFootTraj\u001B[0;34m(self, context, output)\u001B[0m\n\u001B[1;32m     41\u001B[0m stance_foot_pos \u001B[38;5;241m=\u001B[39m \u001B[38;5;28mself\u001B[39m\u001B[38;5;241m.\u001B[39mplant\u001B[38;5;241m.\u001B[39mCalcPointsPositions(\n\u001B[1;32m     42\u001B[0m     \u001B[38;5;28mself\u001B[39m\u001B[38;5;241m.\u001B[39mplant_context, stance_foot\u001B[38;5;241m.\u001B[39mframe, stance_foot\u001B[38;5;241m.\u001B[39mpt, \u001B[38;5;28mself\u001B[39m\u001B[38;5;241m.\u001B[39mplant\u001B[38;5;241m.\u001B[39mworld_frame())\u001B[38;5;241m.\u001B[39mravel()\n\u001B[1;32m     43\u001B[0m com_pred \u001B[38;5;241m=\u001B[39m \u001B[38;5;28mself\u001B[39m\u001B[38;5;241m.\u001B[39mConstructAlipComTraj(t, end_time, alip_state, stance_foot_pos)\u001B[38;5;241m.\u001B[39mvalue(end_time)\u001B[38;5;241m.\u001B[39mravel()\n\u001B[0;32m---> 45\u001B[0m vdes_run \u001B[38;5;241m=\u001B[39m \u001B[38;5;28;43mself\u001B[39;49m\u001B[38;5;241;43m.\u001B[39;49m\u001B[43mEvalVectorInput\u001B[49m\u001B[43m(\u001B[49m\u001B[43mcontext\u001B[49m\u001B[43m,\u001B[49m\u001B[43m \u001B[49m\u001B[38;5;28;43mself\u001B[39;49m\u001B[38;5;241;43m.\u001B[39;49m\u001B[43mrunning_speed_input_port_index\u001B[49m\u001B[43m)\u001B[49m\u001B[38;5;241;43m.\u001B[39;49m\u001B[43mget_value\u001B[49m()\n\u001B[1;32m     46\u001B[0m Ly_des \u001B[38;5;241m=\u001B[39m vdes_run[\u001B[38;5;241m0\u001B[39m] \u001B[38;5;241m*\u001B[39m \u001B[38;5;28mself\u001B[39m\u001B[38;5;241m.\u001B[39mH \u001B[38;5;241m*\u001B[39m \u001B[38;5;28mself\u001B[39m\u001B[38;5;241m.\u001B[39mm\n\u001B[1;32m     47\u001B[0m omega \u001B[38;5;241m=\u001B[39m np\u001B[38;5;241m.\u001B[39msqrt(\u001B[38;5;241m9.81\u001B[39m\u001B[38;5;241m/\u001B[39m\u001B[38;5;28mself\u001B[39m\u001B[38;5;241m.\u001B[39mH)\n",
      "\u001B[0;31mAttributeError\u001B[0m: 'NoneType' object has no attribute 'get_value'"
     ]
    }
   ],
   "execution_count": 9
  },
  {
   "cell_type": "markdown",
   "source": "<a style='text-decoration:none;line-height:16px;display:flex;color:#5B5B62;padding:10px;justify-content:end;' href='https://deepnote.com?utm_source=created-in-deepnote-cell&projectId=c140ec4a-6224-46c8-b55a-d8a7a25ad3a5' target=\"_blank\">\n<img alt='Created in deepnote.com' style='display:inline;max-height:16px;margin:0px;margin-right:7.5px;' src='data:image/svg+xml;base64,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' > </img>\nCreated in <span style='font-weight:600;margin-left:4px;'>Deepnote</span></a>",
   "metadata": {
    "created_in_deepnote_cell": true,
    "deepnote_cell_type": "markdown"
   }
  }
 ],
 "nbformat": 4,
 "nbformat_minor": 0,
 "metadata": {
  "deepnote_notebook_id": "bab737fa91cc41748cdbb9b0935cbc8d",
  "kernelspec": {
   "name": "python3",
   "language": "python",
   "display_name": "Python 3 (ipykernel)"
  }
 }
}
