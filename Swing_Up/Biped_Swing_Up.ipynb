{
 "cells": [
  {
   "cell_type": "markdown",
   "metadata": {
    "cell_id": "d90799ee78b448d680c3522ae3ab06e0",
    "deepnote_cell_type": "text-cell-h1",
    "formattedRanges": []
   },
   "source": [
    "# Biped Swing Up"
   ]
  },
  {
   "cell_type": "markdown",
   "metadata": {
    "cell_id": "ae1ae57e23714ef19ed95a7335357bff",
    "deepnote_cell_type": "text-cell-h3",
    "formattedRanges": []
   },
   "source": [
    "### Import Libraries"
   ]
  },
  {
   "cell_type": "code",
   "execution_count": 1,
   "metadata": {
    "cell_id": "d06f349348a9425c98c20e18cc6ea101",
    "deepnote_cell_type": "code",
    "execution_context_id": "48002a9b-9854-442e-b646-7fd86f6b9fef",
    "execution_millis": 483,
    "execution_start": 1732046904948,
    "source_hash": "eeed08a5"
   },
   "outputs": [],
   "source": [
    "from copy import copy\n",
    "import numpy as np\n",
    "from pydrake.all import (\n",
    "    ControllabilityMatrix,\n",
    "    DiagramBuilder,\n",
    "    Linearize,\n",
    "    LinearQuadraticRegulator,\n",
    "    MeshcatVisualizer,\n",
    "    Saturation,\n",
    "    SceneGraph,\n",
    "    Simulator,\n",
    "    StartMeshcat,\n",
    "    WrapToSystem,\n",
    "    LeafSystem,\n",
    "    wrap_to,\n",
    "    AddMultibodyPlantSceneGraph,\n",
    "    Parser,\n",
    "    ConstantVectorSource,\n",
    "    MultibodyPlant,\n",
    "    InverseDynamicsController\n",
    ")\n",
    "from pydrake.examples import AcrobotGeometry, AcrobotInput, AcrobotPlant, AcrobotState, AcrobotParams, AcrobotSpongController\n",
    "\n",
    "from input_output_transformer import DecomposeStates, CombineControlInputs"
   ]
  },
  {
   "cell_type": "markdown",
   "metadata": {
    "cell_id": "f4ad28d59e674010b887235d6df2f425",
    "deepnote_cell_type": "text-cell-h3",
    "formattedRanges": []
   },
   "source": [
    "### Start Meshcat"
   ]
  },
  {
   "cell_type": "code",
   "execution_count": 2,
   "metadata": {
    "cell_id": "2ec5a1d8448942449a4251c23443b906",
    "deepnote_cell_type": "code",
    "execution_context_id": "de97dff2-0f2a-431f-bbd5-76b06102444e",
    "execution_millis": 0,
    "execution_start": 1732046905476,
    "source_hash": "a20aae47"
   },
   "outputs": [
    {
     "name": "stderr",
     "output_type": "stream",
     "text": [
      "INFO:drake:Meshcat listening for connections at https://711f3004-0a9b-43a3-abc8-ecd3b79bb722.deepnoteproject.com/7000/\n"
     ]
    },
    {
     "data": {
      "text/html": [
       "Meshcat URL: <a href='https://711f3004-0a9b-43a3-abc8-ecd3b79bb722.deepnoteproject.com/7000/' target='_blank'>https://711f3004-0a9b-43a3-abc8-ecd3b79bb722.deepnoteproject.com/7000/</a>"
      ],
      "text/plain": [
       "<IPython.core.display.HTML object>"
      ]
     },
     "metadata": {},
     "output_type": "display_data"
    }
   ],
   "source": [
    "# Start the visualizer (run this cell only once, each instance consumes a port)\n",
    "meshcat = StartMeshcat()"
   ]
  },
  {
   "cell_type": "code",
   "execution_count": 3,
   "metadata": {
    "cell_id": "e9c10409f222450f9b9b308f30e8a839",
    "deepnote_cell_type": "code",
    "execution_context_id": "de97dff2-0f2a-431f-bbd5-76b06102444e",
    "execution_millis": 0,
    "execution_start": 1732046905528,
    "source_hash": "efaa1a9"
   },
   "outputs": [],
   "source": [
    "# def animation_demo():\n",
    "#     builder = DiagramBuilder()\n",
    "\n",
    "#     # Adds both MultibodyPlant and the SceneGraph, and wires them together.\n",
    "#     plant, scene_graph = AddMultibodyPlantSceneGraph(builder, time_step=1e-4)\n",
    "#     # Note that we parse into both the plant and the scene_graph here.\n",
    "#     Parser(plant, scene_graph).AddModels(\"urdf/acrobot_2.urdf\")\n",
    "#     plant.Finalize()\n",
    "\n",
    "#     # Adds the MeshcatVisualizer and wires it to the SceneGraph.\n",
    "#     MeshcatVisualizer.AddToBuilder(builder, scene_graph, meshcat)\n",
    "\n",
    "#     diagram = builder.Build()\n",
    "#     context = diagram.CreateDefaultContext()\n",
    "#     # print(context)\n",
    "#     plant_context = plant.GetMyMutableContextFromRoot(context)\n",
    "\n",
    "#     # Set initial state.\n",
    "#     plant.SetPositions(plant_context, [0, 1.57, 1.57]) # set z value to 1\n",
    "\n",
    "#     # Set actuation input.\n",
    "#     plant.get_actuation_input_port().FixValue(plant_context, np.zeros(2))\n",
    "\n",
    "#     simulator = Simulator(diagram, context)\n",
    "#     simulator.set_target_realtime_rate(1.0)\n",
    "\n",
    "#     meshcat.StartRecording()\n",
    "#     simulator.AdvanceTo(0.1)\n",
    "#     meshcat.StopRecording()\n",
    "#     meshcat.PublishRecording()\n",
    "\n",
    "\n",
    "# animation_demo()"
   ]
  },
  {
   "cell_type": "markdown",
   "metadata": {
    "cell_id": "65914fe020544b17bc9d9880e2d2a7b9",
    "deepnote_cell_type": "text-cell-h3",
    "formattedRanges": []
   },
   "source": [
    "### Demo of Spong Controller"
   ]
  },
  {
   "cell_type": "code",
   "execution_count": null,
   "metadata": {
    "cell_id": "1e74d556806943798b4428320a190ea7",
    "deepnote_cell_type": "code",
    "execution_context_id": "c6d16107-21fa-448d-b3d2-ab6fdf63c648",
    "execution_millis": 1,
    "execution_start": 1732046905695,
    "source_hash": "23ae4e3f"
   },
   "outputs": [],
   "source": [
    "builder = DiagramBuilder()\n",
    "\n",
    "plant, scene_graph = AddMultibodyPlantSceneGraph(builder, time_step=1e-4)\n",
    "\n",
    "# Note that we parse into both the plant and the scene_graph here.\n",
    "Parser(plant, scene_graph).AddModels(\"urdf/three_link.urdf\")\n",
    "plant.Finalize()"
   ]
  },
  {
   "cell_type": "code",
   "execution_count": 5,
   "metadata": {
    "cell_id": "8f05ebf0495246a7a154a141045bf7d4",
    "deepnote_cell_type": "code",
    "execution_context_id": "c6d16107-21fa-448d-b3d2-ab6fdf63c648",
    "execution_millis": 0,
    "execution_start": 1732046905744,
    "source_hash": "b6b63fb2"
   },
   "outputs": [],
   "source": [
    "states_decomposer = DecomposeStates()\n",
    "builder.AddSystem(states_decomposer)\n",
    "\n",
    "# wire plant state to state decomposer\n",
    "builder.Connect(plant.get_state_output_port(), \n",
    "                states_decomposer.get_input_port(states_decomposer.input_port_index))"
   ]
  },
  {
   "cell_type": "code",
   "execution_count": 6,
   "metadata": {
    "cell_id": "935360d114c643a0823e8ff5b69b144a",
    "deepnote_cell_type": "code",
    "execution_context_id": "c6d16107-21fa-448d-b3d2-ab6fdf63c648",
    "execution_millis": 0,
    "execution_start": 1732046905792,
    "source_hash": "daacea88"
   },
   "outputs": [],
   "source": [
    "controller = builder.AddSystem(AcrobotSpongController())\n",
    "\n",
    "builder.Connect(states_decomposer.get_output_port(states_decomposer.link1_states_output_port_index), \n",
    "                controller.get_input_port(0))"
   ]
  },
  {
   "cell_type": "code",
   "execution_count": 7,
   "metadata": {
    "cell_id": "5dce98ccaf3d49c29de25d6948eca694",
    "deepnote_cell_type": "code",
    "execution_context_id": "c6d16107-21fa-448d-b3d2-ab6fdf63c648",
    "execution_millis": 0,
    "execution_start": 1732046905840,
    "source_hash": "581adff0"
   },
   "outputs": [],
   "source": [
    "control_input_combiner = CombineControlInputs()\n",
    "builder.AddSystem(control_input_combiner)\n",
    "\n",
    "builder.Connect(controller.get_output_port(0), \n",
    "                control_input_combiner.get_input_port(control_input_combiner.acrobot_control_input_port_index))"
   ]
  },
  {
   "cell_type": "code",
   "execution_count": 8,
   "metadata": {
    "cell_id": "97dcf4e369224355970bbc04460479dc",
    "deepnote_cell_type": "code",
    "execution_context_id": "adef2746-1c84-44d4-8e7f-9a7cd5f9e134",
    "execution_millis": 0,
    "execution_start": 1732046906000,
    "source_hash": "780838e4"
   },
   "outputs": [],
   "source": [
    "# Secondary MultibodyPlant for control\n",
    "control_plant = MultibodyPlant(time_step=1e-4)\n",
    "control_model = Parser(control_plant).AddModels(\"urdf/pendulum.urdf\")[0]\n",
    "control_plant.Finalize()\n",
    "\n",
    "# Define PID gains and add the inverse dynamics controller\n",
    "kp = [100] * control_plant.num_positions()\n",
    "ki = [1] * control_plant.num_positions()\n",
    "kd = [20] * control_plant.num_positions()\n",
    "pendulum_controller = builder.AddSystem(InverseDynamicsController(control_plant, kp, ki, kd, False))"
   ]
  },
  {
   "cell_type": "code",
   "execution_count": 9,
   "metadata": {
    "cell_id": "e280343b3d3540c1bdb95ba22b5e324f",
    "deepnote_cell_type": "code",
    "execution_context_id": "48002a9b-9854-442e-b646-7fd86f6b9fef",
    "execution_millis": 0,
    "execution_start": 1732046906044,
    "source_hash": "b47d9db"
   },
   "outputs": [],
   "source": [
    "builder.Connect(\n",
    "    states_decomposer.get_output_port(\n",
    "        states_decomposer.link2_states_output_port_index\n",
    "        ),  \n",
    "    pendulum_controller.get_input_port_estimated_state(),\n",
    ")\n",
    "\n",
    "pendulum_traj_src = builder.AddSystem(ConstantVectorSource(np.array([0, 0])))\n",
    "\n",
    "builder.Connect(\n",
    "    pendulum_traj_src.get_output_port(), \n",
    "    pendulum_controller.get_input_port_desired_state()\n",
    ")\n",
    "\n",
    "builder.Connect(pendulum_controller.get_output_port(0), \n",
    "                control_input_combiner.get_input_port(control_input_combiner.pendulum_control_input_port_index))"
   ]
  },
  {
   "cell_type": "code",
   "execution_count": 10,
   "metadata": {
    "cell_id": "6bb72dd5c91b40178aae667fb09b759a",
    "deepnote_cell_type": "code",
    "execution_context_id": "48002a9b-9854-442e-b646-7fd86f6b9fef",
    "execution_millis": 0,
    "execution_start": 1732046906092,
    "source_hash": "c2a813f5"
   },
   "outputs": [],
   "source": [
    "builder.Connect(control_input_combiner.get_output_port(control_input_combiner.combined_control_input_output_port_index), \n",
    "                plant.get_actuation_input_port())"
   ]
  },
  {
   "cell_type": "code",
   "execution_count": 11,
   "metadata": {
    "cell_id": "b121ffe5b6874e6ba7f67be3a5492192",
    "deepnote_cell_type": "code",
    "execution_context_id": "48002a9b-9854-442e-b646-7fd86f6b9fef",
    "execution_millis": 12883,
    "execution_start": 1732046906139,
    "source_hash": "1423f3d7"
   },
   "outputs": [],
   "source": [
    "# Setup visualization\n",
    "MeshcatVisualizer.AddToBuilder(builder, scene_graph, meshcat)\n",
    "\n",
    "diagram = builder.Build()\n",
    "simulator = Simulator(diagram)\n",
    "\n",
    "plant_context = diagram.GetMutableSubsystemContext(\n",
    "    plant, simulator.get_mutable_context())\n",
    "\n",
    "plant.SetPositionsAndVelocities(plant_context, [0, 0, 0, 0.1, 0, 0])\n",
    "\n",
    "simulator.Initialize()\n",
    "meshcat.StartRecording()\n",
    "simulator.AdvanceTo(10)\n",
    "meshcat.StopRecording()\n",
    "meshcat.PublishRecording()"
   ]
  },
  {
   "cell_type": "markdown",
   "metadata": {
    "created_in_deepnote_cell": true,
    "deepnote_cell_type": "markdown"
   },
   "source": [
    "<a style='text-decoration:none;line-height:16px;display:flex;color:#5B5B62;padding:10px;justify-content:end;' href='https://deepnote.com?utm_source=created-in-deepnote-cell&projectId=711f3004-0a9b-43a3-abc8-ecd3b79bb722' target=\"_blank\">\n",
    "<img alt='Created in deepnote.com' style='display:inline;max-height:16px;margin:0px;margin-right:7.5px;' src='data:image/svg+xml;base64,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' > </img>\n",
    "Created in <span style='font-weight:600;margin-left:4px;'>Deepnote</span></a>"
   ]
  }
 ],
 "metadata": {
  "deepnote_notebook_id": "53c6a77e1ac94826a67654214e007e15",
  "language_info": {
   "name": "python"
  }
 },
 "nbformat": 4,
 "nbformat_minor": 0
}
