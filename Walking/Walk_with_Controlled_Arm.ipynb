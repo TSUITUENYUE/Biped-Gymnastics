{
 "cells": [
  {
   "cell_type": "markdown",
   "metadata": {
    "cell_id": "14c700ee84b64621a5319692e50c66a2",
    "deepnote_cell_type": "text-cell-h1",
    "formattedRanges": []
   },
   "source": [
    "# Biped Walker with Arm following Leg Traj"
   ]
  },
  {
   "cell_type": "markdown",
   "metadata": {
    "cell_id": "b4ba6f5d5d4348a9897732b8b06d15ae",
    "deepnote_cell_type": "text-cell-h3",
    "formattedRanges": []
   },
   "source": [
    "### Import Libraries"
   ]
  },
  {
   "cell_type": "code",
   "execution_count": 1,
   "metadata": {
    "cell_id": "4382f9c31417430dbb1c7bf937fafe6b",
    "deepnote_cell_type": "code",
    "execution_context_id": "4e69635b-44b6-4ae3-affe-f29120670262",
    "execution_millis": 2071,
    "execution_start": 1731513713920,
    "source_hash": "fe62dd97"
   },
   "outputs": [
    {
     "name": "stderr",
     "output_type": "stream",
     "text": [
      "/shared-libs/python3.8/py/lib/python3.8/site-packages/scipy/__init__.py:155: UserWarning: A NumPy version >=1.18.5 and <1.26.0 is required for this version of SciPy (detected version 1.17.4\n",
      "  warnings.warn(f\"A NumPy version >={np_minversion} and <{np_maxversion}\"\n"
     ]
    }
   ],
   "source": [
    "import pydot\n",
    "import numpy as np\n",
    "from IPython.display import SVG, display\n",
    "\n",
    "from pydrake.all import Simulator, DiagramBuilder, AddMultibodyPlantSceneGraph,\\\n",
    "                        Parser, RigidTransform, MeshcatVisualizer, MeshcatVisualizerParams, \\\n",
    "                        ConstantVectorSource, ConstantValueSource, PiecewisePolynomial,\\\n",
    "                        AbstractValue, HalfSpace, CoulombFriction, LeafSystem, BasicVector, \\\n",
    "                        MultibodyPlant, InverseDynamicsController\n",
    "import footstep_planner\n",
    "import osc\n",
    "import importlib\n",
    "import input_output_transformer\n",
    "importlib.reload(osc)\n",
    "importlib.reload(footstep_planner)\n",
    "importlib.reload(input_output_transformer)\n",
    "from osc import OperationalSpaceWalkingController, OscGains\n",
    "from input_output_transformer import DecomposeStates, CombineControlInputs"
   ]
  },
  {
   "cell_type": "markdown",
   "metadata": {
    "cell_id": "a919976d7acb4b6a8a44147b55daa207",
    "deepnote_cell_type": "text-cell-h3",
    "formattedRanges": []
   },
   "source": [
    "### Start Meshcat"
   ]
  },
  {
   "cell_type": "code",
   "execution_count": 2,
   "metadata": {
    "cell_id": "0db7ac2d5cd041f58ce5ace15aec510e",
    "deepnote_cell_type": "code",
    "execution_context_id": "4e69635b-44b6-4ae3-affe-f29120670262",
    "execution_millis": 0,
    "execution_start": 1731513716036,
    "source_hash": "3f44790f"
   },
   "outputs": [
    {
     "name": "stderr",
     "output_type": "stream",
     "text": [
      "INFO:drake:Meshcat listening for connections at https://4a6731e0-80e9-4a54-8f6c-6ed1aa743f6a.deepnoteproject.com/7000/\n"
     ]
    },
    {
     "data": {
      "text/html": [
       "Meshcat URL: <a href='https://4a6731e0-80e9-4a54-8f6c-6ed1aa743f6a.deepnoteproject.com/7000/' target='_blank'>https://4a6731e0-80e9-4a54-8f6c-6ed1aa743f6a.deepnoteproject.com/7000/</a>"
      ],
      "text/plain": [
       "<IPython.core.display.HTML object>"
      ]
     },
     "metadata": {},
     "output_type": "display_data"
    }
   ],
   "source": [
    "from pydrake.all import StartMeshcat\n",
    "\n",
    "meshcat = StartMeshcat()"
   ]
  },
  {
   "cell_type": "markdown",
   "metadata": {
    "cell_id": "459f7483665d4dd18e2537ce0f48f9bb",
    "deepnote_cell_type": "text-cell-h3",
    "formattedRanges": []
   },
   "source": [
    "### Add Humanoid Walker URDF as the Simulation Plant"
   ]
  },
  {
   "cell_type": "code",
   "execution_count": 3,
   "metadata": {
    "cell_id": "59430548871e417c88465cbaf56f1d36",
    "deepnote_cell_type": "code",
    "execution_context_id": "4e69635b-44b6-4ae3-affe-f29120670262",
    "execution_millis": 0,
    "execution_start": 1731513716196,
    "source_hash": "25e7f149"
   },
   "outputs": [
    {
     "data": {
      "text/plain": [
       "<pydrake.geometry.MeshcatVisualizer at 0x7f434506ebf0>"
      ]
     },
     "execution_count": 3,
     "metadata": {},
     "output_type": "execute_result"
    }
   ],
   "source": [
    "builder = DiagramBuilder()\n",
    "\n",
    "# Adds both MultibodyPlant and the SceneGraph, and wires them together.\n",
    "plant, scene_graph = AddMultibodyPlantSceneGraph(builder, time_step=1e-4)\n",
    "X_WG = HalfSpace.MakePose(np.array([0,0, 1]), np.zeros(3,))\n",
    "plant.RegisterCollisionGeometry(\n",
    "    plant.world_body(), \n",
    "    X_WG, HalfSpace(), \n",
    "    \"collision\", \n",
    "    CoulombFriction(1.0, 1.0)\n",
    ")\n",
    "# Note that we parse into both the plant and the scene_graph here.\n",
    "Parser(plant, scene_graph).AddModels(\"urdf/humanoid_walker.urdf\")\n",
    "plant.WeldFrames(plant.world_frame(), plant.GetFrameByName(\"base\"))\n",
    "plant.Finalize()\n",
    "\n",
    "# Add MeshcatVisualizer for visualization\n",
    "MeshcatVisualizer.AddToBuilder(builder, scene_graph, meshcat)"
   ]
  },
  {
   "cell_type": "markdown",
   "metadata": {
    "cell_id": "6eb3e47e9d414b989f60714991c74958",
    "deepnote_cell_type": "text-cell-h3",
    "formattedRanges": []
   },
   "source": [
    "### Use Double Pendulum URDF to calculate PID Control Input for the Arms"
   ]
  },
  {
   "cell_type": "code",
   "execution_count": 4,
   "metadata": {
    "cell_id": "567d2d95b4a840d29b5468b0820541ec",
    "deepnote_cell_type": "code",
    "execution_context_id": "4e69635b-44b6-4ae3-affe-f29120670262",
    "execution_millis": 1,
    "execution_start": 1731513716340,
    "source_hash": "953f2d"
   },
   "outputs": [],
   "source": [
    "# Secondary MultibodyPlant for control\n",
    "control_plant = MultibodyPlant(time_step=1e-4)\n",
    "control_model = Parser(control_plant).AddModels(\"urdf/double_pendulum.urdf\")[0]\n",
    "control_plant.Finalize()\n",
    "\n",
    "# Define PID gains and add the inverse dynamics controller\n",
    "kp = [100] * control_plant.num_positions()\n",
    "ki = [1] * control_plant.num_positions()\n",
    "kd = [20] * control_plant.num_positions()\n",
    "left_arm_controller = builder.AddSystem(InverseDynamicsController(control_plant, kp, ki, kd, False))\n",
    "left_arm_controller.set_name(\"left_arm_controller\")\n",
    "right_arm_controller = builder.AddSystem(InverseDynamicsController(control_plant, kp, ki, kd, False))\n",
    "right_arm_controller.set_name(\"right_arm_controller\")"
   ]
  },
  {
   "cell_type": "markdown",
   "metadata": {
    "cell_id": "20b968e8a344464198c778180fd51919",
    "deepnote_cell_type": "text-cell-h3",
    "formattedRanges": []
   },
   "source": [
    "### Calculate Arm Trajectory to follow"
   ]
  },
  {
   "cell_type": "code",
   "execution_count": 5,
   "metadata": {
    "cell_id": "a1781854c7f3459ab5ea329c38dafd29",
    "deepnote_cell_type": "code",
    "execution_context_id": "4e69635b-44b6-4ae3-affe-f29120670262",
    "execution_millis": 0,
    "execution_start": 1731513716388,
    "source_hash": "f46299d7"
   },
   "outputs": [],
   "source": [
    "# Define a custom system for generating the desired trajectory\n",
    "class ArmTrajectorySource(LeafSystem):\n",
    "    def __init__(self):\n",
    "        super().__init__()\n",
    "        \n",
    "        # Declare an input port for the full plant state (22 states)\n",
    "        self.input_port_index = self.DeclareVectorInputPort(\"full_state\", BasicVector(22)).get_index()\n",
    "\n",
    "        # Declare an output port for the desired state (position and velocity)\n",
    "        self.left_arm_traj_output_index = self.DeclareVectorOutputPort(\n",
    "            \"left_arm_traj\", BasicVector(4), self.CalcLeftArm).get_index()\n",
    "        self.right_arm_traj_output_index = self.DeclareVectorOutputPort(\n",
    "            \"right_arm_traj\", BasicVector(4), self.CalcRightArm).get_index()\n",
    "\n",
    "    def CalcLeftArm(self, context, output):\n",
    "        theta1 = self.get_input_port(self.input_port_index).Eval(context)[9] # 10th state (right hip pos)\n",
    "        theta1_dot = self.get_input_port(self.input_port_index).Eval(context)[20] # 21th state (right hip vel)\n",
    "        theta2 = 0\n",
    "        theta2_dot = 0\n",
    "\n",
    "        offset = np.arccos(0.6)\n",
    "\n",
    "        output.SetFromVector([theta1 + offset, theta2, theta1_dot, theta2_dot])\n",
    "\n",
    "    def CalcRightArm(self, context, output):\n",
    "        theta1 = self.get_input_port(self.input_port_index).Eval(context)[7] # 8th state (left hip pos)\n",
    "        theta1_dot = self.get_input_port(self.input_port_index).Eval(context)[18] # 19th state (left hip vel)\n",
    "        theta2 = 0\n",
    "        theta2_dot = 0\n",
    "\n",
    "        offset = np.arccos(0.6)\n",
    "\n",
    "        output.SetFromVector([theta1 + offset, theta2, theta1_dot, theta2_dot])"
   ]
  },
  {
   "cell_type": "markdown",
   "metadata": {
    "cell_id": "75419b5b2ea142aeb7585317a74fac96",
    "deepnote_cell_type": "text-cell-h3",
    "formattedRanges": []
   },
   "source": [
    "### Decompose States"
   ]
  },
  {
   "cell_type": "code",
   "execution_count": 6,
   "metadata": {
    "cell_id": "12111709b7ae44129ab84307561c2444",
    "deepnote_cell_type": "code",
    "execution_context_id": "4e69635b-44b6-4ae3-affe-f29120670262",
    "execution_millis": 0,
    "execution_start": 1731513716436,
    "source_hash": "b6b63fb2"
   },
   "outputs": [],
   "source": [
    "states_decomposer = DecomposeStates()\n",
    "builder.AddSystem(states_decomposer)\n",
    "\n",
    "# wire plant state to state decomposer\n",
    "builder.Connect(plant.get_state_output_port(), \n",
    "                states_decomposer.get_input_port(states_decomposer.input_port_index))"
   ]
  },
  {
   "cell_type": "markdown",
   "metadata": {
    "cell_id": "a91610d173564356a2e07b0cb8d3f5d0",
    "deepnote_cell_type": "text-cell-h3",
    "formattedRanges": []
   },
   "source": [
    "### Connect Arm States to Arm PID Controller"
   ]
  },
  {
   "cell_type": "code",
   "execution_count": 7,
   "metadata": {
    "cell_id": "b5507ea3a70e45c1adf3d139b1f45242",
    "deepnote_cell_type": "code",
    "execution_context_id": "4e69635b-44b6-4ae3-affe-f29120670262",
    "execution_millis": 1,
    "execution_start": 1731513716480,
    "source_hash": "30d850e0"
   },
   "outputs": [],
   "source": [
    "builder.Connect(\n",
    "    states_decomposer.get_output_port(\n",
    "        states_decomposer.left_arm_states_output_port_index\n",
    "        ),  \n",
    "    left_arm_controller.get_input_port_estimated_state(),\n",
    ")\n",
    "builder.Connect(\n",
    "    states_decomposer.get_output_port(\n",
    "        states_decomposer.right_arm_states_output_port_index\n",
    "        ),  \n",
    "    right_arm_controller.get_input_port_estimated_state(),\n",
    ")"
   ]
  },
  {
   "cell_type": "markdown",
   "metadata": {
    "cell_id": "b8358c7946c74e8285d9193f6934d289",
    "deepnote_cell_type": "text-cell-h3",
    "formattedRanges": []
   },
   "source": [
    "### Connect Arm Desired Trajectory to Arm PID Controller"
   ]
  },
  {
   "cell_type": "code",
   "execution_count": 8,
   "metadata": {
    "cell_id": "d388e7470258468196e853c5f89f7845",
    "deepnote_cell_type": "code",
    "execution_context_id": "4e69635b-44b6-4ae3-affe-f29120670262",
    "execution_millis": 0,
    "execution_start": 1731513716532,
    "source_hash": "5e63c2eb"
   },
   "outputs": [],
   "source": [
    "# Create and add the trajectory source to generate the desired trajectory\n",
    "arm_trajectory_source = builder.AddSystem(ArmTrajectorySource())\n",
    "\n",
    "builder.Connect(plant.get_state_output_port(), \n",
    "                arm_trajectory_source.get_input_port(arm_trajectory_source.input_port_index))\n",
    "\n",
    "builder.Connect(\n",
    "    arm_trajectory_source.get_output_port(\n",
    "        arm_trajectory_source.left_arm_traj_output_index\n",
    "        ), \n",
    "    left_arm_controller.get_input_port_desired_state()\n",
    ")\n",
    "builder.Connect(\n",
    "    arm_trajectory_source.get_output_port(\n",
    "        arm_trajectory_source.right_arm_traj_output_index\n",
    "        ), \n",
    "    right_arm_controller.get_input_port_desired_state()\n",
    ")"
   ]
  },
  {
   "cell_type": "markdown",
   "metadata": {
    "cell_id": "e3f6fbaad2ba42a28182e5509dc7ad30",
    "deepnote_cell_type": "text-cell-h3",
    "formattedRanges": []
   },
   "source": [
    "### Set up OSC and Footstep Planner"
   ]
  },
  {
   "cell_type": "code",
   "execution_count": 9,
   "metadata": {
    "cell_id": "c06f9592b9174d1692ccfd3c81206cad",
    "deepnote_cell_type": "code",
    "execution_context_id": "4e69635b-44b6-4ae3-affe-f29120670262",
    "execution_millis": 0,
    "execution_start": 1731513716753,
    "source_hash": "ccc4aa1d"
   },
   "outputs": [],
   "source": [
    "# Build the controller diagram\n",
    "Kp = np.diag([100, 0, 100])\n",
    "Kd = np.diag([10, 0, 10])\n",
    "W = np.diag([1, 0, 1])\n",
    "\n",
    "Wcom = np.zeros((3,3))\n",
    "Wcom[2,2] = 1\n",
    "\n",
    "# gains for humanoid with arms fixed\n",
    "gains = OscGains(\n",
    "        Kp, Kd, Wcom,\n",
    "        Kp, Kd, W,\n",
    "        60 * np.eye(1), 6 * np.eye(1), np.eye(1),\n",
    "        0.00001\n",
    "    )\n",
    "\n",
    "walking_speed = 0.2 # walking speed in m/s for humanoid with arms fixed\n",
    "\n",
    "osc = builder.AddSystem(OperationalSpaceWalkingController(gains))\n",
    "planner = builder.AddSystem(footstep_planner.LipTrajPlanner())\n",
    "speed_src = builder.AddSystem(ConstantVectorSource(np.array([walking_speed])))\n",
    "base_traj_src = builder.AddSystem(\n",
    "    ConstantValueSource(AbstractValue.Make(PiecewisePolynomial(np.zeros(1,))))\n",
    ")"
   ]
  },
  {
   "cell_type": "markdown",
   "metadata": {
    "cell_id": "ab611ab5cc784290a16aeab5b0e4cf21",
    "deepnote_cell_type": "text-cell-h3",
    "formattedRanges": []
   },
   "source": [
    "### Connect Lower Body States to Footstep Planner and OSC"
   ]
  },
  {
   "cell_type": "code",
   "execution_count": 10,
   "metadata": {
    "cell_id": "03dd405807b94469b82dbff46cf10363",
    "deepnote_cell_type": "code",
    "execution_context_id": "4e69635b-44b6-4ae3-affe-f29120670262",
    "execution_millis": 0,
    "execution_start": 1731513716800,
    "source_hash": "a01be984"
   },
   "outputs": [],
   "source": [
    "builder.Connect(states_decomposer.get_output_port(\n",
    "                    states_decomposer.lower_body_states_output_port_index\n",
    "                    ),   \n",
    "                planner.get_state_input_port())\n",
    "builder.Connect(speed_src.get_output_port(), \n",
    "                planner.get_walking_speed_input_port())\n",
    "\n",
    "builder.Connect(states_decomposer.get_output_port(\n",
    "                    states_decomposer.lower_body_states_output_port_index\n",
    "                    ), \n",
    "                osc.get_state_input_port()) \n",
    "builder.Connect(planner.get_swing_foot_traj_output_port(), \n",
    "                osc.get_traj_input_port(\"swing_foot_traj\"))\n",
    "builder.Connect(planner.get_com_traj_output_port(), \n",
    "                osc.get_traj_input_port(\"com_traj\"))\n",
    "builder.Connect(base_traj_src.get_output_port(), \n",
    "                osc.get_traj_input_port(\"base_joint_traj\"))"
   ]
  },
  {
   "cell_type": "markdown",
   "metadata": {
    "cell_id": "30b902c818064ab888499914450e5084",
    "deepnote_cell_type": "text-cell-h3",
    "formattedRanges": []
   },
   "source": [
    "### Combine all Control Inputs and wire with Plant Actuation Input"
   ]
  },
  {
   "cell_type": "code",
   "execution_count": 11,
   "metadata": {
    "cell_id": "5a8b24f19c2d4d9f883cde768ed27c7f",
    "deepnote_cell_type": "code",
    "execution_context_id": "4e69635b-44b6-4ae3-affe-f29120670262",
    "execution_millis": 1,
    "execution_start": 1731513716852,
    "source_hash": "d6d15af8"
   },
   "outputs": [],
   "source": [
    "control_input_combiner = CombineControlInputs()\n",
    "builder.AddSystem(control_input_combiner)\n",
    "\n",
    "builder.Connect(osc.get_output_port(), \n",
    "                control_input_combiner.get_input_port(control_input_combiner.osc_input_port_index))\n",
    "builder.Connect(left_arm_controller.get_output_port(), \n",
    "                control_input_combiner.get_input_port(control_input_combiner.left_arm_control_input_port_index))\n",
    "builder.Connect(right_arm_controller.get_output_port(), \n",
    "                control_input_combiner.get_input_port(control_input_combiner.right_arm_control_input_port_index))\n",
    "\n",
    "builder.Connect(control_input_combiner.get_output_port(control_input_combiner.combined_control_input_output_port_index), \n",
    "                plant.get_actuation_input_port())"
   ]
  },
  {
   "cell_type": "markdown",
   "metadata": {
    "cell_id": "0e24c4f472024d6ab71bfac1ec86b95a",
    "deepnote_cell_type": "text-cell-h3",
    "formattedRanges": []
   },
   "source": [
    "### Build Diagram"
   ]
  },
  {
   "cell_type": "code",
   "execution_count": 12,
   "metadata": {
    "cell_id": "4c90c3d730f2412691f6371c0eed141f",
    "deepnote_cell_type": "code",
    "execution_context_id": "4e69635b-44b6-4ae3-affe-f29120670262",
    "execution_millis": 0,
    "execution_start": 1731513716904,
    "source_hash": "f354fbf1"
   },
   "outputs": [],
   "source": [
    "# Build the diagram\n",
    "diagram = builder.Build()\n",
    "diagram.set_name(\"humanoid_walking_controller\")"
   ]
  },
  {
   "cell_type": "markdown",
   "metadata": {
    "cell_id": "b8193cd84dea442abefa8024b91adef8",
    "deepnote_cell_type": "text-cell-h3",
    "formattedRanges": []
   },
   "source": [
    "### Run Simulation"
   ]
  },
  {
   "cell_type": "code",
   "execution_count": null,
   "metadata": {
    "cell_id": "8566995e1799402f80c3dbd75354562a",
    "deepnote_cell_type": "code",
    "execution_context_id": "4e69635b-44b6-4ae3-affe-f29120670262",
    "execution_millis": 56237,
    "execution_start": 1731513716956,
    "source_hash": "326586a3"
   },
   "outputs": [],
   "source": [
    "sim_time = 1.5\n",
    "simulator = Simulator(diagram)\n",
    "simulator.Initialize()\n",
    "simulator.set_target_realtime_rate(1)\n",
    "\n",
    "# Set the robot state\n",
    "plant_context = diagram.GetMutableSubsystemContext(\n",
    "    plant, simulator.get_mutable_context())\n",
    "\n",
    "q = np.zeros((plant.num_positions(),))\n",
    "q[1] = 0.8\n",
    "theta = -np.arccos(q[1])\n",
    "q[7] = theta\n",
    "q[8] = -2 * theta\n",
    "q[9] = theta\n",
    "q[10] = -2 * theta\n",
    "plant.SetPositions(plant_context, q)\n",
    "\n",
    "# Start recording the animation\n",
    "meshcat.StartRecording()\n",
    "simulator.AdvanceTo(sim_time)\n",
    "meshcat.StopRecording()\n",
    "meshcat.PublishRecording()"
   ]
  },
  {
   "cell_type": "markdown",
   "metadata": {
    "created_in_deepnote_cell": true,
    "deepnote_cell_type": "markdown"
   },
   "source": [
    "<a style='text-decoration:none;line-height:16px;display:flex;color:#5B5B62;padding:10px;justify-content:end;' href='https://deepnote.com?utm_source=created-in-deepnote-cell&projectId=4a6731e0-80e9-4a54-8f6c-6ed1aa743f6a' target=\"_blank\">\n",
    "<img alt='Created in deepnote.com' style='display:inline;max-height:16px;margin:0px;margin-right:7.5px;' src='data:image/svg+xml;base64,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' > </img>\n",
    "Created in <span style='font-weight:600;margin-left:4px;'>Deepnote</span></a>"
   ]
  }
 ],
 "metadata": {
  "deepnote_notebook_id": "8321a85bbe7145c495c9fb23355738d1",
  "language_info": {
   "name": "python"
  }
 },
 "nbformat": 4,
 "nbformat_minor": 0
}
